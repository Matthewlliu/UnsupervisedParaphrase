{
 "cells": [
  {
   "cell_type": "code",
   "execution_count": 1,
   "id": "82914dff-0f08-4eab-83ed-334774ace701",
   "metadata": {},
   "outputs": [],
   "source": [
    "import os\n",
    "import torch\n",
    "import numpy as np\n",
    "from termcolor import colored\n",
    "import pickle as pkl\n",
    "import copy\n",
    "\n",
    "#from my_model import MyModel\n",
    "from utils import kw_rake, Scoring, end_process, evaluation, get_input, get_output\n",
    "from dataset import para_data_bidirect\n",
    "from model import MyModel\n",
    "\n",
    "from tqdm import tqdm\n",
    "from transformers import T5Tokenizer, T5ForConditionalGeneration\n"
   ]
  },
  {
   "cell_type": "code",
   "execution_count": 2,
   "id": "39f8d1aa-0fac-42db-b71d-34ff8f0e0ae3",
   "metadata": {},
   "outputs": [],
   "source": [
    "#max_length = 75\n",
    "top_k = 50\n",
    "top_p = 0.92\n",
    "n_beams = 1\n",
    "early_stopping = False\n",
    "do_sample = True\n",
    "temperature = 1.5\n",
    "\n",
    "cand_number = 100\n",
    "test_number = 5\n",
    "score_k = 5"
   ]
  },
  {
   "cell_type": "code",
   "execution_count": 3,
   "id": "19514b70-cd28-4bd5-b28f-be7580e6915f",
   "metadata": {},
   "outputs": [
    {
     "name": "stdout",
     "output_type": "stream",
     "text": [
      "Loading model from /data/MODELS/t5-large\n",
      "Loading cache from /data/ljx/data/bookcorpus/para/bidirect_context_window3_sample10000.pkl\n",
      "\u001b[31mOutput (top-5):\u001b[0m\n",
      "\u001b[33mtop_k       = 50\u001b[0m\n",
      "\u001b[33mtop_p       = 0.92\u001b[0m\n",
      "\u001b[33mn_beams     = 1\u001b[0m\n",
      "\u001b[33mdo_sample   = True\u001b[0m\n",
      "\u001b[33mtemperature = 1.5\u001b[0m\n"
     ]
    }
   ],
   "source": [
    "#model_name = 'bart-base'\n",
    "model_name = 't5-large'\n",
    "if_bart = model_name[:4]=='bart'\n",
    "\n",
    "#my_pretrained_root = '/data/ljx/cpt/KQAPro_ckpt/program_ckpt/'\n",
    "my_pretrained_root = '/data/MODELS/t5-large'\n",
    "my_model = MyModel(model_name, pretrained_dir = my_pretrained_root)\n",
    "\n",
    "data_path = '/data/ljx/data/bookcorpus/para/'\n",
    "Data = para_data_bidirect(data_path)\n",
    "\n",
    "print(colored(\"Output (top-{}):\".format(score_k), 'red'))\n",
    "# Generate\n",
    "print(colored(\"top_k       = {}\".format(top_k), 'yellow'))\n",
    "print(colored(\"top_p       = {}\".format(top_p), 'yellow'))\n",
    "print(colored(\"n_beams     = {}\".format(n_beams), 'yellow'))\n",
    "print(colored(\"do_sample   = {}\".format(do_sample), 'yellow'))\n",
    "print(colored(\"temperature = {}\".format(temperature), 'yellow'))\n",
    "\n",
    "actual_s = []\n",
    "generated_s = []\n",
    "data_use = Data.data[:test_number]"
   ]
  },
  {
   "cell_type": "code",
   "execution_count": 4,
   "id": "dd731657-d82a-48fe-a2a6-7e3f5ca20339",
   "metadata": {},
   "outputs": [
    {
     "name": "stderr",
     "output_type": "stream",
     "text": [
      "  0%|          | 0/5 [00:00<?, ?it/s]"
     ]
    },
    {
     "name": "stdout",
     "output_type": "stream",
     "text": [
      "\u001b[33mInput: maybe i could stay home and sleep one night .\u001b[0m\n"
     ]
    },
    {
     "name": "stderr",
     "output_type": "stream",
     "text": [
      "  0%|          | 0/5 [00:57<?, ?it/s]\n"
     ]
    },
    {
     "ename": "NameError",
     "evalue": "name 'cands' is not defined",
     "output_type": "error",
     "traceback": [
      "\u001b[0;31m---------------------------------------------------------------------------\u001b[0m",
      "\u001b[0;31mNameError\u001b[0m                                 Traceback (most recent call last)",
      "\u001b[0;32m/tmp/ipykernel_44353/1491400713.py\u001b[0m in \u001b[0;36m<module>\u001b[0;34m\u001b[0m\n\u001b[1;32m     33\u001b[0m         \u001b[0mY_cands\u001b[0m\u001b[0;34m.\u001b[0m\u001b[0mappend\u001b[0m\u001b[0;34m(\u001b[0m\u001b[0mY\u001b[0m\u001b[0;34m)\u001b[0m\u001b[0;34m\u001b[0m\u001b[0;34m\u001b[0m\u001b[0m\n\u001b[1;32m     34\u001b[0m \u001b[0;34m\u001b[0m\u001b[0m\n\u001b[0;32m---> 35\u001b[0;31m     \u001b[0mtext_top_k\u001b[0m \u001b[0;34m=\u001b[0m \u001b[0mScoring\u001b[0m\u001b[0;34m(\u001b[0m\u001b[0mX\u001b[0m\u001b[0;34m,\u001b[0m \u001b[0mX_cands\u001b[0m\u001b[0;34m,\u001b[0m \u001b[0mY\u001b[0m\u001b[0;34m,\u001b[0m \u001b[0mY_cands\u001b[0m\u001b[0;34m,\u001b[0m \u001b[0mscore_k\u001b[0m\u001b[0;34m)\u001b[0m\u001b[0;34m\u001b[0m\u001b[0;34m\u001b[0m\u001b[0m\n\u001b[0m\u001b[1;32m     36\u001b[0m     \u001b[0mgenerated_s\u001b[0m\u001b[0;34m.\u001b[0m\u001b[0mappend\u001b[0m\u001b[0;34m(\u001b[0m\u001b[0mtext_top_k\u001b[0m\u001b[0;34m[\u001b[0m\u001b[0;36m0\u001b[0m\u001b[0;34m]\u001b[0m\u001b[0;34m)\u001b[0m\u001b[0;34m\u001b[0m\u001b[0;34m\u001b[0m\u001b[0m\n\u001b[1;32m     37\u001b[0m     \u001b[0;32mfor\u001b[0m \u001b[0mi\u001b[0m\u001b[0;34m,\u001b[0m \u001b[0ml\u001b[0m \u001b[0;32min\u001b[0m \u001b[0menumerate\u001b[0m\u001b[0;34m(\u001b[0m\u001b[0mtext_top_k\u001b[0m\u001b[0;34m)\u001b[0m\u001b[0;34m:\u001b[0m\u001b[0;34m\u001b[0m\u001b[0;34m\u001b[0m\u001b[0m\n",
      "\u001b[0;32m~/Megatron-LM-main/tests/new_t5/utils.py\u001b[0m in \u001b[0;36mScoring\u001b[0;34m(X, X_cands, Y, Y_cands, k)\u001b[0m\n\u001b[1;32m    139\u001b[0m     \u001b[0mret\u001b[0m \u001b[0;34m=\u001b[0m \u001b[0;34m[\u001b[0m\u001b[0;34m]\u001b[0m\u001b[0;34m\u001b[0m\u001b[0;34m\u001b[0m\u001b[0m\n\u001b[1;32m    140\u001b[0m     \u001b[0;32mfor\u001b[0m \u001b[0midx\u001b[0m \u001b[0;32min\u001b[0m \u001b[0mtopk\u001b[0m\u001b[0;34m:\u001b[0m\u001b[0;34m\u001b[0m\u001b[0;34m\u001b[0m\u001b[0m\n\u001b[0;32m--> 141\u001b[0;31m         \u001b[0mret\u001b[0m\u001b[0;34m.\u001b[0m\u001b[0mappend\u001b[0m\u001b[0;34m(\u001b[0m\u001b[0mcands\u001b[0m\u001b[0;34m[\u001b[0m\u001b[0midx\u001b[0m\u001b[0;34m]\u001b[0m\u001b[0;34m)\u001b[0m\u001b[0;34m\u001b[0m\u001b[0;34m\u001b[0m\u001b[0m\n\u001b[0m\u001b[1;32m    142\u001b[0m     \u001b[0;32mreturn\u001b[0m \u001b[0mret\u001b[0m\u001b[0;34m\u001b[0m\u001b[0;34m\u001b[0m\u001b[0m\n\u001b[1;32m    143\u001b[0m \u001b[0;34m\u001b[0m\u001b[0m\n",
      "\u001b[0;31mNameError\u001b[0m: name 'cands' is not defined"
     ]
    }
   ],
   "source": [
    "for sample in tqdm(data_use):\n",
    "    context_len = len(sample)\n",
    "    mid_id = round((context_len - 1)/2)\n",
    "    \n",
    "    X = sample[mid_id]\n",
    "    Y_ref = sample[mid_id-1:mid_id+1]\n",
    "    actual_s.append(X)\n",
    "    \n",
    "    print(colored(\"Input: \"+X, 'yellow'))\n",
    "\n",
    "    kw_batches = kw_rake(X)\n",
    "    X_cands = []\n",
    "    Y_cands = []\n",
    "    for i in range(cand_number): \n",
    "        inputs, X_processed = get_input(sample, mid_id, kw_batches)\n",
    "        input_ids = my_model.encode(inputs).input_ids\n",
    "        \n",
    "        output = my_model.model.generate(\n",
    "            input_ids=input_ids, \n",
    "            do_sample=do_sample,\n",
    "            num_beams=n_beams,\n",
    "            top_k=top_k,\n",
    "            top_p=top_p,\n",
    "            early_stopping = early_stopping,\n",
    "            temperature=temperature\n",
    "           )\n",
    "        \n",
    "        output = my_model.tokenizer.batch_decode(output)\n",
    "        output = output[0]\n",
    "        Y, X_decoded = get_output(sample, X_processed, output)\n",
    "        \n",
    "        X_cands.append(X_decoded)\n",
    "        Y_cands.append(Y)\n",
    "\n",
    "    text_top_k = Scoring(X, X_cands, Y, Y_cands, score_k)\n",
    "    generated_s.append(text_top_k[0])\n",
    "    for i, l in enumerate(text_top_k):\n",
    "        print(('%s. %s' % (str(i+1), l)))"
   ]
  },
  {
   "cell_type": "code",
   "execution_count": null,
   "id": "62b65968-0321-4b63-8715-c0f197371f8e",
   "metadata": {},
   "outputs": [],
   "source": []
  }
 ],
 "metadata": {
  "kernelspec": {
   "display_name": "Python 3 (ipykernel)",
   "language": "python",
   "name": "python3"
  },
  "language_info": {
   "codemirror_mode": {
    "name": "ipython",
    "version": 3
   },
   "file_extension": ".py",
   "mimetype": "text/x-python",
   "name": "python",
   "nbconvert_exporter": "python",
   "pygments_lexer": "ipython3",
   "version": "3.8.11"
  }
 },
 "nbformat": 4,
 "nbformat_minor": 5
}
